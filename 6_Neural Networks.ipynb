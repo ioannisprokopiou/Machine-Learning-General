{
  "nbformat": 4,
  "nbformat_minor": 0,
  "metadata": {
    "colab": {
      "provenance": [],
      "toc_visible": true,
      "gpuType": "T4"
    },
    "kernelspec": {
      "name": "python3",
      "display_name": "Python 3"
    },
    "language_info": {
      "name": "python"
    },
    "accelerator": "GPU"
  },
  "cells": [
    {
      "cell_type": "code",
      "execution_count": 1,
      "metadata": {
        "id": "ti6RRCHDPXBi"
      },
      "outputs": [],
      "source": [
        "import tensorflow as tf\n",
        "import random\n",
        "import matplotlib.pyplot as plt\n",
        "import numpy as np\n",
        "import time\n",
        "from sklearn.neural_network import MLPClassifier\n",
        "from sklearn.preprocessing import StandardScaler\n",
        "from sklearn.neighbors import KNeighborsClassifier\n",
        "from sklearn.decomposition import PCA\n",
        "from sklearn.metrics import accuracy_score, f1_score, precision_score, recall_score"
      ]
    },
    {
      "cell_type": "markdown",
      "source": [
        "# Dataset Load"
      ],
      "metadata": {
        "id": "idHGDth0S7VV"
      }
    },
    {
      "cell_type": "code",
      "source": [
        "(x_train, y_train), (x_test, y_test) = tf.keras.datasets.mnist.load_data()"
      ],
      "metadata": {
        "colab": {
          "base_uri": "https://localhost:8080/"
        },
        "id": "gSNGjGraPihz",
        "outputId": "ace534fb-06d9-42d6-f62f-2fe1493b31f2"
      },
      "execution_count": 2,
      "outputs": [
        {
          "output_type": "stream",
          "name": "stdout",
          "text": [
            "Downloading data from https://storage.googleapis.com/tensorflow/tf-keras-datasets/mnist.npz\n",
            "11490434/11490434 [==============================] - 2s 0us/step\n"
          ]
        }
      ]
    },
    {
      "cell_type": "code",
      "source": [
        "print(\"Train set shape: \",x_train.shape)\n",
        "print(\"Test set shape: \",x_test.shape)"
      ],
      "metadata": {
        "colab": {
          "base_uri": "https://localhost:8080/"
        },
        "id": "AMWM6C-OPrL0",
        "outputId": "5d76f544-3535-492a-b4d5-bd117e837ec3"
      },
      "execution_count": 3,
      "outputs": [
        {
          "output_type": "stream",
          "name": "stdout",
          "text": [
            "Train set shape:  (60000, 28, 28)\n",
            "Test set shape:  (10000, 28, 28)\n"
          ]
        }
      ]
    },
    {
      "cell_type": "code",
      "source": [
        "rows = 2\n",
        "columns = 5\n",
        "\n",
        "fig, axs = plt.subplots(rows, columns, figsize=(10, 4))\n",
        "\n",
        "for i in range(10):\n",
        "    y_ids = y_train == i\n",
        "    img = random.choice(x_train[y_ids])\n",
        "\n",
        "    row = i // columns\n",
        "    col = i % columns\n",
        "\n",
        "    axs[row, col].imshow(img)\n",
        "    axs[row, col].axis('off')  # Turn off axis\n",
        "    axs[row, col].set_title(f'Digit {i}')\n",
        "\n",
        "plt.tight_layout()\n",
        "plt.show()"
      ],
      "metadata": {
        "colab": {
          "base_uri": "https://localhost:8080/",
          "height": 410
        },
        "id": "bYN-EgKJP73S",
        "outputId": "90a81c50-02ad-45a7-ae42-126f302ee0e7"
      },
      "execution_count": 39,
      "outputs": [
        {
          "output_type": "display_data",
          "data": {
            "text/plain": [
              "<Figure size 1000x400 with 10 Axes>"
            ],
            "image/png": "[encoded data removed]"
          },
          "metadata": {}
        }
      ]
    },
    {
      "cell_type": "code",
      "source": [
        "unique, counts = np.unique(y_train, return_counts=True)\n",
        "print(dict(zip(unique, counts)))"
      ],
      "metadata": {
        "colab": {
          "base_uri": "https://localhost:8080/"
        },
        "id": "R859JbuwRFj1",
        "outputId": "3272a9e6-91e4-440b-a44e-3bc2452d866f"
      },
      "execution_count": 27,
      "outputs": [
        {
          "output_type": "stream",
          "name": "stdout",
          "text": [
            "{0: 5923, 1: 6742, 2: 5958, 3: 6131, 4: 5842, 5: 5421, 6: 5918, 7: 6265, 8: 5851, 9: 5949}\n"
          ]
        }
      ]
    },
    {
      "cell_type": "markdown",
      "source": [
        "Digit images seem of nice quality and the classes are balanced"
      ],
      "metadata": {
        "id": "iVu1Yw__RZ1-"
      }
    },
    {
      "cell_type": "markdown",
      "source": [
        "# Preprocessing"
      ],
      "metadata": {
        "id": "9SDrD3flS-8c"
      }
    },
    {
      "cell_type": "code",
      "source": [
        "x_train_flat = x_train.reshape(60000, 784)\n",
        "x_test_flat = x_test.reshape(10000, 784)\n",
        "\n",
        "print(\"Flat Train set shape:\", x_train_flat.shape)\n",
        "print(\"Flat Test set shape:\", x_test_flat.shape)"
      ],
      "metadata": {
        "colab": {
          "base_uri": "https://localhost:8080/"
        },
        "id": "M2WEip2USNVB",
        "outputId": "88250cd4-2d5a-4088-a5f6-bec2b4ecd99f"
      },
      "execution_count": 4,
      "outputs": [
        {
          "output_type": "stream",
          "name": "stdout",
          "text": [
            "Flat Train set shape: (60000, 784)\n",
            "Flat Test set shape: (10000, 784)\n"
          ]
        }
      ]
    },
    {
      "cell_type": "code",
      "source": [
        "scaler = StandardScaler()\n",
        "x_train_flat_scaled = scaler.fit_transform(x_train_flat)\n",
        "x_test_flat_scaled = scaler.transform(x_test_flat)"
      ],
      "metadata": {
        "id": "BFc3ORDHT4iv"
      },
      "execution_count": 46,
      "outputs": []
    },
    {
      "cell_type": "markdown",
      "source": [
        "# Multi-Layer Perceptron Classifier"
      ],
      "metadata": {
        "id": "QMvnn1ryTCx-"
      }
    },
    {
      "cell_type": "code",
      "source": [
        "mlp = MLPClassifier(random_state=0)\n",
        "\n",
        "mlp.fit(x_train_flat, y_train)"
      ],
      "metadata": {
        "id": "o3Lc_DrCSqB-"
      },
      "execution_count": null,
      "outputs": []
    },
    {
      "cell_type": "code",
      "source": [
        "y_pred = mlp.predict(x_test_flat)\n",
        "\n",
        "accuracy = accuracy_score(y_test, y_pred)\n",
        "f1 = f1_score(y_test, y_pred, average='weighted')\n",
        "precision = precision_score(y_test, y_pred, average='weighted')\n",
        "recall = recall_score(y_test, y_pred, average='weighted')\n",
        "\n",
        "print(f\"Accuracy: {accuracy}\")\n",
        "print(f\"F1 Score: {f1}\")\n",
        "print(f\"Precision: {precision}\")\n",
        "print(f\"Recall: {recall}\")"
      ],
      "metadata": {
        "colab": {
          "base_uri": "https://localhost:8080/"
        },
        "id": "vLZ2G3z0TkaT",
        "outputId": "9a98acc0-5753-4212-b140-ecffd560e8f0"
      },
      "execution_count": 45,
      "outputs": [
        {
          "output_type": "stream",
          "name": "stdout",
          "text": [
            "Accuracy: 0.9645\n",
            "F1 Score: 0.9644953532388295\n",
            "Precision: 0.9647081848282716\n",
            "Recall: 0.9645\n"
          ]
        }
      ]
    },
    {
      "cell_type": "markdown",
      "source": [
        "**MLP Classifier with normalized values**"
      ],
      "metadata": {
        "id": "1rLDlLGyUf4f"
      }
    },
    {
      "cell_type": "code",
      "source": [
        "mlp = MLPClassifier(random_state=0)\n",
        "\n",
        "mlp.fit(x_train_flat_scaled, y_train)\n",
        "\n",
        "y_pred = mlp.predict(x_test_flat_scaled)\n",
        "\n",
        "accuracy = accuracy_score(y_test, y_pred)\n",
        "f1 = f1_score(y_test, y_pred, average='weighted')\n",
        "precision = precision_score(y_test, y_pred, average='weighted')\n",
        "recall = recall_score(y_test, y_pred, average='weighted')\n",
        "\n",
        "print(f\"Accuracy: {accuracy}\")\n",
        "print(f\"F1 Score: {f1}\")\n",
        "print(f\"Precision: {precision}\")\n",
        "print(f\"Recall: {recall}\")"
      ],
      "metadata": {
        "colab": {
          "base_uri": "https://localhost:8080/"
        },
        "id": "8FmPA6yDT8Pe",
        "outputId": "bdc5b48d-fcde-477e-a342-74a14677de72"
      },
      "execution_count": 47,
      "outputs": [
        {
          "output_type": "stream",
          "name": "stdout",
          "text": [
            "Accuracy: 0.9743\n",
            "F1 Score: 0.9743014315186483\n",
            "Precision: 0.9743177627161999\n",
            "Recall: 0.9743\n"
          ]
        }
      ]
    },
    {
      "cell_type": "markdown",
      "source": [
        "Normalized values produce slightly better results (+1 p.p.)"
      ],
      "metadata": {
        "id": "4XoBMd6-UzsL"
      }
    },
    {
      "cell_type": "markdown",
      "source": [
        "# MLPClassifier Parameters"
      ],
      "metadata": {
        "id": "YYU2MI-2Vm5I"
      }
    },
    {
      "cell_type": "markdown",
      "source": [
        "When configuring a neural network using the MLPClassifier there are several parameters to consider. Here are some of the key parameters:\n",
        "\n",
        "- **hidden_layer_sizes**: This parameter determines the size and number of hidden layers in the neural network. For example, hidden_layer_sizes=(5, 2) means 2 hidden layers with 5 neurons. default=(100,) which is 1 layer of 100 neurons\n",
        "\n",
        "- **activation**: Defines the activation function for the hidden layers. Common choices include 'relu' (default), 'tanh', and 'logistic'.\n",
        "\n",
        "- **solver**: The solver for weight optimization. Common options are 'adam' (default), 'sgd', and 'lbfgs'\n",
        "\n",
        "- **alpha**: It helps to avoid overfitting by penalizing large weights\n",
        "\n",
        "- **batch_size**: Size of minibatches for stochastic optimizers. This is the number of samples per gradient update. If set to 'auto', batch_size=min(200, n_samples).\n",
        "\n",
        "- **learning_rate**: Only used when solver='sgd'. Determines the learning rate schedule. Options include 'constant' (default), 'invscaling', and 'adaptive'\n",
        "\n",
        "- **learning_rate_init**: The initial learning rate used. It controls the step-size in updating the weights. Only used when solver='sgd' or 'adam'.\n",
        "\n",
        "- **max_iter**: Maximum number of iterations. The solver iterates until convergence (determined by 'tol') or this number of iterations.\n",
        "\n",
        "- **random_state**: Determines random number generation for weights and bias initialization, which ensures reproducibility of results.\n",
        "\n",
        "- **tol**: Tolerance for the optimization. When the loss or score is not improving by at least tol for n_iter_no_change consecutive iterations, unless learning_rate is set to 'adaptive', convergence is considered to be reached and training stops.\n",
        "\n",
        "- **validation_fraction**: The proportion of training data to set aside as validation set for early stopping."
      ],
      "metadata": {
        "id": "DUOcvxWIVpXc"
      }
    },
    {
      "cell_type": "markdown",
      "source": [
        "# KNN Classifier"
      ],
      "metadata": {
        "id": "mgqL49w3YNvm"
      }
    },
    {
      "cell_type": "code",
      "source": [
        "n_neighbors = int(np.sqrt(x_train_flat.shape[0]))\n",
        "\n",
        "knn = KNeighborsClassifier(n_neighbors=n_neighbors, random_state=0)\n",
        "\n",
        "knn.fit(x_train_flat, y_train)\n",
        "\n",
        "y_pred_knn = knn.predict(x_test_flat)\n",
        "\n",
        "accuracy = accuracy_score(y_test, y_pred_knn)\n",
        "f1 = f1_score(y_test, y_pred_knn, average='weighted')\n",
        "precision = precision_score(y_test, y_pred_knn, average='weighted')\n",
        "recall = recall_score(y_test, y_pred_knn, average='weighted')\n",
        "\n",
        "print(f\"Accuracy: {accuracy}\")\n",
        "print(f\"F1 Score: {f1}\")\n",
        "print(f\"Precision: {precision}\")\n",
        "print(f\"Recall: {recall}\")"
      ],
      "metadata": {
        "colab": {
          "base_uri": "https://localhost:8080/"
        },
        "id": "mqDBBNTQYQEO",
        "outputId": "ac8fcbbb-8ee2-425d-f280-ace3e7865065"
      },
      "execution_count": 49,
      "outputs": [
        {
          "output_type": "stream",
          "name": "stdout",
          "text": [
            "Accuracy: 0.9241\n",
            "F1 Score: 0.9241202371130496\n",
            "Precision: 0.92873147144498\n",
            "Recall: 0.9241\n"
          ]
        }
      ]
    },
    {
      "cell_type": "markdown",
      "source": [
        "**KNN produces 4p.p. less accuracy accross all metrics (non normalized values)**"
      ],
      "metadata": {
        "id": "iwW6ut8UchGY"
      }
    },
    {
      "cell_type": "markdown",
      "source": [
        "# Dimensionality Reduction\n",
        "\n",
        "Dimensionality reduction technique like Principal Component Analysis (PCA) could be beneficial when applied.\n",
        "- It can greatly reduce the computational cost, leading to faster processing.\n",
        "- It can recuce noise\n",
        "- Help with visualization"
      ],
      "metadata": {
        "id": "Si2jDPi1dmR2"
      }
    },
    {
      "cell_type": "code",
      "source": [
        "pca = PCA(n_components=0.90)  # Keep 90% of variance\n",
        "\n",
        "x_train_pca = pca.fit_transform(x_train_flat_scaled)\n",
        "x_test_pca = pca.transform(x_test_flat_scaled)"
      ],
      "metadata": {
        "id": "AH37G-bNdn1G"
      },
      "execution_count": 53,
      "outputs": []
    },
    {
      "cell_type": "code",
      "source": [
        "mlp = MLPClassifier(random_state=0)\n",
        "\n",
        "mlp.fit(x_train_pca, y_train)\n",
        "\n",
        "y_pred = mlp.predict(x_test_pca)\n",
        "\n",
        "accuracy = accuracy_score(y_test, y_pred)\n",
        "f1 = f1_score(y_test, y_pred, average='weighted')\n",
        "precision = precision_score(y_test, y_pred, average='weighted')\n",
        "recall = recall_score(y_test, y_pred, average='weighted')\n",
        "\n",
        "print(f\"Accuracy: {accuracy}\")\n",
        "print(f\"F1 Score: {f1}\")\n",
        "print(f\"Precision: {precision}\")\n",
        "print(f\"Recall: {recall}\")"
      ],
      "metadata": {
        "colab": {
          "base_uri": "https://localhost:8080/"
        },
        "id": "dBwAAZq4d284",
        "outputId": "e27d6383-5cb0-419c-a1fa-edfbb8a98568"
      },
      "execution_count": 54,
      "outputs": [
        {
          "output_type": "stream",
          "name": "stdout",
          "text": [
            "Accuracy: 0.973\n",
            "F1 Score: 0.9730041913268737\n",
            "Precision: 0.9730337011957272\n",
            "Recall: 0.973\n"
          ]
        }
      ]
    },
    {
      "cell_type": "markdown",
      "source": [
        "Keeping 90% of the original variance leads to almost the same scores (-0.1 p.p) and a slight increase of +0.1 p.p. when keeping the 95% of the variance! This may show successful noise reduction but the metric scores are too similar"
      ],
      "metadata": {
        "id": "te9Phu55e2NM"
      }
    },
    {
      "cell_type": "markdown",
      "source": [
        "# Sequantial MLP"
      ],
      "metadata": {
        "id": "EOweMtrWfXNI"
      }
    },
    {
      "cell_type": "code",
      "source": [
        "num_classes = 10\n",
        "y_train_one_hot = tf.one_hot(y_train, depth=num_classes)\n",
        "y_test_one_hot = tf.one_hot(y_test, depth=num_classes)\n",
        "y_train_one_hot.shape, y_test_one_hot.shape"
      ],
      "metadata": {
        "colab": {
          "base_uri": "https://localhost:8080/"
        },
        "id": "EGFVk22ofcEA",
        "outputId": "c393f58a-2831-44ff-af44-e5a05e40d41c"
      },
      "execution_count": 5,
      "outputs": [
        {
          "output_type": "execute_result",
          "data": {
            "text/plain": [
              "(TensorShape([60000, 10]), TensorShape([10000, 10]))"
            ]
          },
          "metadata": {},
          "execution_count": 5
        }
      ]
    },
    {
      "cell_type": "code",
      "source": [
        "input_shape = (784,)\n",
        "num_hidden_layers = 2\n",
        "units_per_layer = 128\n",
        "activation = 'relu'\n",
        "\n",
        "mlp = tf.keras.Sequential(name='my-mlp')\n",
        "mlp.add(tf.keras.layers.Input(input_shape, name='input_layer'))\n",
        "for i in range(num_hidden_layers):\n",
        "  mlp.add(tf.keras.layers.Dense(units=128, activation=activation, name=f'hidden_layer_{i+1}'))\n",
        "mlp.add(tf.keras.layers.Dense(units=num_classes, activation='softmax', name='output_layer'))\n",
        "mlp.summary()"
      ],
      "metadata": {
        "colab": {
          "base_uri": "https://localhost:8080/"
        },
        "id": "WWB7CToLfsSL",
        "outputId": "f811e7da-5392-4d3f-b6e9-c58c17246e82"
      },
      "execution_count": 6,
      "outputs": [
        {
          "output_type": "stream",
          "name": "stdout",
          "text": [
            "Model: \"my-mlp\"\n",
            "_________________________________________________________________\n",
            " Layer (type)                Output Shape              Param #   \n",
            "=================================================================\n",
            " hidden_layer_1 (Dense)      (None, 128)               100480    \n",
            "                                                                 \n",
            " hidden_layer_2 (Dense)      (None, 128)               16512     \n",
            "                                                                 \n",
            " output_layer (Dense)        (None, 10)                1290      \n",
            "                                                                 \n",
            "=================================================================\n",
            "Total params: 118282 (462.04 KB)\n",
            "Trainable params: 118282 (462.04 KB)\n",
            "Non-trainable params: 0 (0.00 Byte)\n",
            "_________________________________________________________________\n"
          ]
        }
      ]
    },
    {
      "cell_type": "code",
      "source": [
        "learning_rate = 0.001\n",
        "loss = 'categorical_crossentropy'\n",
        "metrics = ['accuracy']\n",
        "batch_size = 32\n",
        "epochs = 50\n",
        "\n",
        "start_time = time.perf_counter()\n",
        "\n",
        "mlp.compile(optimizer=tf.keras.optimizers.Adam(learning_rate=learning_rate), loss=loss, metrics=metrics)\n",
        "mlp.fit(x_train_flat, y_train_one_hot, batch_size=batch_size, epochs=epochs, validation_data=(x_test_flat, y_test_one_hot))\n",
        "\n",
        "end_time = time.perf_counter()\n",
        "elapsed_time = end_time - start_time\n",
        "print(f\"Execution time: {elapsed_time} seconds\")"
      ],
      "metadata": {
        "colab": {
          "base_uri": "https://localhost:8080/"
        },
        "id": "R0-y_21khVed",
        "outputId": "df006ed8-46ca-4efa-e660-2b10d26fe861"
      },
      "execution_count": 7,
      "outputs": [
        {
          "output_type": "stream",
          "name": "stdout",
          "text": [
            "Epoch 1/50\n",
            "1875/1875 [==============================] - 14s 5ms/step - loss: 1.7465 - accuracy: 0.8732 - val_loss: 0.4532 - val_accuracy: 0.9108\n",
            "Epoch 2/50\n",
            "1875/1875 [==============================] - 6s 3ms/step - loss: 0.3340 - accuracy: 0.9277 - val_loss: 0.2430 - val_accuracy: 0.9439\n",
            "Epoch 3/50\n",
            "1875/1875 [==============================] - 8s 4ms/step - loss: 0.2101 - accuracy: 0.9467 - val_loss: 0.1984 - val_accuracy: 0.9493\n",
            "Epoch 4/50\n",
            "1875/1875 [==============================] - 7s 4ms/step - loss: 0.1612 - accuracy: 0.9557 - val_loss: 0.1877 - val_accuracy: 0.9492\n",
            "Epoch 5/50\n",
            "1875/1875 [==============================] - 7s 4ms/step - loss: 0.1505 - accuracy: 0.9588 - val_loss: 0.1865 - val_accuracy: 0.9503\n",
            "Epoch 6/50\n",
            "1875/1875 [==============================] - 6s 3ms/step - loss: 0.1334 - accuracy: 0.9624 - val_loss: 0.1957 - val_accuracy: 0.9490\n",
            "Epoch 7/50\n",
            "1875/1875 [==============================] - 8s 4ms/step - loss: 0.1216 - accuracy: 0.9652 - val_loss: 0.1510 - val_accuracy: 0.9642\n",
            "Epoch 8/50\n",
            "1875/1875 [==============================] - 9s 5ms/step - loss: 0.1127 - accuracy: 0.9693 - val_loss: 0.1641 - val_accuracy: 0.9651\n",
            "Epoch 9/50\n",
            "1875/1875 [==============================] - 7s 4ms/step - loss: 0.1061 - accuracy: 0.9713 - val_loss: 0.1604 - val_accuracy: 0.9629\n",
            "Epoch 10/50\n",
            "1875/1875 [==============================] - 7s 4ms/step - loss: 0.0993 - accuracy: 0.9731 - val_loss: 0.1768 - val_accuracy: 0.9605\n",
            "Epoch 11/50\n",
            "1875/1875 [==============================] - 7s 4ms/step - loss: 0.0948 - accuracy: 0.9743 - val_loss: 0.1679 - val_accuracy: 0.9632\n",
            "Epoch 12/50\n",
            "1875/1875 [==============================] - 8s 4ms/step - loss: 0.0895 - accuracy: 0.9760 - val_loss: 0.1493 - val_accuracy: 0.9641\n",
            "Epoch 13/50\n",
            "1875/1875 [==============================] - 6s 3ms/step - loss: 0.0848 - accuracy: 0.9776 - val_loss: 0.1396 - val_accuracy: 0.9699\n",
            "Epoch 14/50\n",
            "1875/1875 [==============================] - 8s 4ms/step - loss: 0.0798 - accuracy: 0.9787 - val_loss: 0.1853 - val_accuracy: 0.9687\n",
            "Epoch 15/50\n",
            "1875/1875 [==============================] - 7s 4ms/step - loss: 0.0793 - accuracy: 0.9797 - val_loss: 0.2171 - val_accuracy: 0.9663\n",
            "Epoch 16/50\n",
            "1875/1875 [==============================] - 8s 4ms/step - loss: 0.0742 - accuracy: 0.9808 - val_loss: 0.1633 - val_accuracy: 0.9677\n",
            "Epoch 17/50\n",
            "1875/1875 [==============================] - 6s 3ms/step - loss: 0.0718 - accuracy: 0.9814 - val_loss: 0.2071 - val_accuracy: 0.9623\n",
            "Epoch 18/50\n",
            "1875/1875 [==============================] - 8s 4ms/step - loss: 0.0712 - accuracy: 0.9822 - val_loss: 0.1787 - val_accuracy: 0.9702\n",
            "Epoch 19/50\n",
            "1875/1875 [==============================] - 7s 4ms/step - loss: 0.0649 - accuracy: 0.9830 - val_loss: 0.1924 - val_accuracy: 0.9690\n",
            "Epoch 20/50\n",
            "1875/1875 [==============================] - 8s 4ms/step - loss: 0.0719 - accuracy: 0.9824 - val_loss: 0.1944 - val_accuracy: 0.9710\n",
            "Epoch 21/50\n",
            "1875/1875 [==============================] - 6s 3ms/step - loss: 0.0597 - accuracy: 0.9849 - val_loss: 0.1886 - val_accuracy: 0.9698\n",
            "Epoch 22/50\n",
            "1875/1875 [==============================] - 8s 4ms/step - loss: 0.0716 - accuracy: 0.9834 - val_loss: 0.1659 - val_accuracy: 0.9719\n",
            "Epoch 23/50\n",
            "1875/1875 [==============================] - 7s 4ms/step - loss: 0.0617 - accuracy: 0.9857 - val_loss: 0.1988 - val_accuracy: 0.9709\n",
            "Epoch 24/50\n",
            "1875/1875 [==============================] - 8s 4ms/step - loss: 0.0576 - accuracy: 0.9855 - val_loss: 0.2255 - val_accuracy: 0.9686\n",
            "Epoch 25/50\n",
            "1875/1875 [==============================] - 7s 4ms/step - loss: 0.0590 - accuracy: 0.9856 - val_loss: 0.2036 - val_accuracy: 0.9693\n",
            "Epoch 26/50\n",
            "1875/1875 [==============================] - 8s 4ms/step - loss: 0.0607 - accuracy: 0.9862 - val_loss: 0.1894 - val_accuracy: 0.9692\n",
            "Epoch 27/50\n",
            "1875/1875 [==============================] - 6s 3ms/step - loss: 0.0670 - accuracy: 0.9857 - val_loss: 0.2338 - val_accuracy: 0.9708\n",
            "Epoch 28/50\n",
            "1875/1875 [==============================] - 8s 4ms/step - loss: 0.0678 - accuracy: 0.9859 - val_loss: 0.2254 - val_accuracy: 0.9710\n",
            "Epoch 29/50\n",
            "1875/1875 [==============================] - 6s 3ms/step - loss: 0.0509 - accuracy: 0.9885 - val_loss: 0.2538 - val_accuracy: 0.9677\n",
            "Epoch 30/50\n",
            "1875/1875 [==============================] - 8s 4ms/step - loss: 0.0488 - accuracy: 0.9887 - val_loss: 0.2946 - val_accuracy: 0.9640\n",
            "Epoch 31/50\n",
            "1875/1875 [==============================] - 6s 3ms/step - loss: 0.0572 - accuracy: 0.9870 - val_loss: 0.2041 - val_accuracy: 0.9699\n",
            "Epoch 32/50\n",
            "1875/1875 [==============================] - 8s 4ms/step - loss: 0.0545 - accuracy: 0.9872 - val_loss: 0.2107 - val_accuracy: 0.9738\n",
            "Epoch 33/50\n",
            "1875/1875 [==============================] - 7s 4ms/step - loss: 0.0546 - accuracy: 0.9878 - val_loss: 0.2957 - val_accuracy: 0.9692\n",
            "Epoch 34/50\n",
            "1875/1875 [==============================] - 8s 4ms/step - loss: 0.0518 - accuracy: 0.9887 - val_loss: 0.2581 - val_accuracy: 0.9715\n",
            "Epoch 35/50\n",
            "1875/1875 [==============================] - 7s 4ms/step - loss: 0.0560 - accuracy: 0.9883 - val_loss: 0.2599 - val_accuracy: 0.9702\n",
            "Epoch 36/50\n",
            "1875/1875 [==============================] - 8s 4ms/step - loss: 0.0434 - accuracy: 0.9892 - val_loss: 0.2283 - val_accuracy: 0.9743\n",
            "Epoch 37/50\n",
            "1875/1875 [==============================] - 7s 4ms/step - loss: 0.0510 - accuracy: 0.9893 - val_loss: 0.2951 - val_accuracy: 0.9732\n",
            "Epoch 38/50\n",
            "1875/1875 [==============================] - 7s 4ms/step - loss: 0.0551 - accuracy: 0.9889 - val_loss: 0.2619 - val_accuracy: 0.9742\n",
            "Epoch 39/50\n",
            "1875/1875 [==============================] - 8s 4ms/step - loss: 0.0513 - accuracy: 0.9888 - val_loss: 0.2981 - val_accuracy: 0.9716\n",
            "Epoch 40/50\n",
            "1875/1875 [==============================] - 7s 4ms/step - loss: 0.0474 - accuracy: 0.9892 - val_loss: 0.2890 - val_accuracy: 0.9701\n",
            "Epoch 41/50\n",
            "1875/1875 [==============================] - 7s 4ms/step - loss: 0.0512 - accuracy: 0.9896 - val_loss: 0.3141 - val_accuracy: 0.9676\n",
            "Epoch 42/50\n",
            "1875/1875 [==============================] - 7s 4ms/step - loss: 0.0460 - accuracy: 0.9898 - val_loss: 0.2757 - val_accuracy: 0.9696\n",
            "Epoch 43/50\n",
            "1875/1875 [==============================] - 8s 4ms/step - loss: 0.0553 - accuracy: 0.9884 - val_loss: 0.2860 - val_accuracy: 0.9732\n",
            "Epoch 44/50\n",
            "1875/1875 [==============================] - 7s 4ms/step - loss: 0.0484 - accuracy: 0.9897 - val_loss: 0.2540 - val_accuracy: 0.9713\n",
            "Epoch 45/50\n",
            "1875/1875 [==============================] - 8s 4ms/step - loss: 0.0473 - accuracy: 0.9897 - val_loss: 0.2611 - val_accuracy: 0.9724\n",
            "Epoch 46/50\n",
            "1875/1875 [==============================] - 7s 4ms/step - loss: 0.0501 - accuracy: 0.9894 - val_loss: 0.2719 - val_accuracy: 0.9681\n",
            "Epoch 47/50\n",
            "1875/1875 [==============================] - 8s 4ms/step - loss: 0.0458 - accuracy: 0.9901 - val_loss: 0.2948 - val_accuracy: 0.9682\n",
            "Epoch 48/50\n",
            "1875/1875 [==============================] - 7s 3ms/step - loss: 0.0542 - accuracy: 0.9890 - val_loss: 0.2740 - val_accuracy: 0.9736\n",
            "Epoch 49/50\n",
            "1875/1875 [==============================] - 8s 4ms/step - loss: 0.0456 - accuracy: 0.9901 - val_loss: 0.3917 - val_accuracy: 0.9675\n",
            "Epoch 50/50\n",
            "1875/1875 [==============================] - 6s 3ms/step - loss: 0.0498 - accuracy: 0.9899 - val_loss: 0.3454 - val_accuracy: 0.9734\n",
            "Execution time: 383.248261316 seconds\n"
          ]
        }
      ]
    },
    {
      "cell_type": "markdown",
      "source": [
        "--- Log\n",
        "\n",
        "Execution time (CPU): 503.2487058309998 seconds\n",
        "\n",
        "Execution time (GPU): 383.248261316 seconds\n"
      ],
      "metadata": {
        "id": "YuE3ADRuqiK5"
      }
    },
    {
      "cell_type": "markdown",
      "source": [
        "# CNN"
      ],
      "metadata": {
        "id": "jZyvs3d1u1v6"
      }
    },
    {
      "cell_type": "code",
      "source": [
        "num_classes = 10\n",
        "num_conv_layers = 2\n",
        "num_filters = 64\n",
        "kernel_size = (5,5)\n",
        "strides = (1,1)\n",
        "mlp_num_hidden_layers = 2\n",
        "mlp_units_per_layer = 128\n",
        "activation = 'relu'\n",
        "drouput_rate = 0.4\n",
        "\n",
        "x_train_cnn = np.reshape(x_train, (x_train.shape[0],28,28,1))\n",
        "x_test_cnn = np.reshape(x_test, (x_test.shape[0],28,28,1))\n",
        "\n",
        "cnn = tf.keras.Sequential(name='my-cnn')\n",
        "cnn.add(tf.keras.layers.Input((28,28,1),name='input_layer'))\n",
        "\n",
        "for i in range(num_conv_layers):\n",
        "  cnn.add(\n",
        "      tf.keras.layers.Conv2D(\n",
        "          filters=num_filters,\n",
        "          kernel_size=kernel_size,\n",
        "          strides=strides,\n",
        "          activation=activation,\n",
        "          name=f'conv_layer_{i+1}'\n",
        "      )\n",
        "  )\n",
        "  cnn.add(tf.keras.layers.Dropout(rate=0.4, name=f'drouput_{i+1}'))\n",
        "  cnn.add(tf.keras.layers.MaxPooling2D(name=f'maxpool_{i+1}'))\n",
        "\n",
        "cnn.add(tf.keras.layers.Flatten())\n",
        "\n",
        "for i in range(mlp_num_hidden_layers):\n",
        "  cnn.add(tf.keras.layers.Dense(units=mlp_units_per_layer, activation=activation,name=f'hidden_layer_{i+1}'))\n",
        "cnn.add(tf.keras.layers.Dense(units=num_classes, activation='softmax',name='output_layer'))\n",
        "\n",
        "cnn.summary()"
      ],
      "metadata": {
        "colab": {
          "base_uri": "https://localhost:8080/"
        },
        "id": "-8PB6ngvu3XO",
        "outputId": "a66255cb-5b69-4991-bda6-f3bb17dd594d"
      },
      "execution_count": 22,
      "outputs": [
        {
          "output_type": "stream",
          "name": "stdout",
          "text": [
            "Model: \"my-cnn\"\n",
            "_________________________________________________________________\n",
            " Layer (type)                Output Shape              Param #   \n",
            "=================================================================\n",
            " conv_layer_1 (Conv2D)       (None, 24, 24, 64)        1664      \n",
            "                                                                 \n",
            " drouput_1 (Dropout)         (None, 24, 24, 64)        0         \n",
            "                                                                 \n",
            " maxpool_1 (MaxPooling2D)    (None, 12, 12, 64)        0         \n",
            "                                                                 \n",
            " conv_layer_2 (Conv2D)       (None, 8, 8, 64)          102464    \n",
            "                                                                 \n",
            " drouput_2 (Dropout)         (None, 8, 8, 64)          0         \n",
            "                                                                 \n",
            " maxpool_2 (MaxPooling2D)    (None, 4, 4, 64)          0         \n",
            "                                                                 \n",
            " flatten_4 (Flatten)         (None, 1024)              0         \n",
            "                                                                 \n",
            " hidden_layer_1 (Dense)      (None, 128)               131200    \n",
            "                                                                 \n",
            " hidden_layer_2 (Dense)      (None, 128)               16512     \n",
            "                                                                 \n",
            " output_layer (Dense)        (None, 10)                1290      \n",
            "                                                                 \n",
            "=================================================================\n",
            "Total params: 253130 (988.79 KB)\n",
            "Trainable params: 253130 (988.79 KB)\n",
            "Non-trainable params: 0 (0.00 Byte)\n",
            "_________________________________________________________________\n"
          ]
        }
      ]
    },
    {
      "cell_type": "code",
      "source": [
        "learning_rate = 0.001\n",
        "loss = 'categorical_crossentropy'\n",
        "metrics = ['accuracy']\n",
        "batch_size = 32\n",
        "epochs = 50\n",
        "\n",
        "start_time = time.perf_counter()\n",
        "\n",
        "cnn.compile(optimizer=tf.keras.optimizers.Adam(learning_rate=learning_rate), loss=loss, metrics=metrics)\n",
        "cnn.fit(x_train_cnn, y_train_one_hot, batch_size=batch_size, epochs=epochs, validation_data=(x_test_cnn, y_test_one_hot))\n",
        "\n",
        "end_time = time.perf_counter()\n",
        "elapsed_time = end_time - start_time\n",
        "print(f\"Execution time: {elapsed_time} seconds\")"
      ],
      "metadata": {
        "colab": {
          "base_uri": "https://localhost:8080/"
        },
        "id": "a8WbD40WyX5f",
        "outputId": "53ae269a-00ad-4a0b-a5c4-feb17dceed5e"
      },
      "execution_count": 23,
      "outputs": [
        {
          "output_type": "stream",
          "name": "stdout",
          "text": [
            "Epoch 1/50\n",
            "1875/1875 [==============================] - 19s 6ms/step - loss: 0.3892 - accuracy: 0.9332 - val_loss: 0.0754 - val_accuracy: 0.9791\n",
            "Epoch 2/50\n",
            "1875/1875 [==============================] - 9s 5ms/step - loss: 0.1009 - accuracy: 0.9704 - val_loss: 0.0685 - val_accuracy: 0.9845\n",
            "Epoch 3/50\n",
            "1875/1875 [==============================] - 10s 5ms/step - loss: 0.0877 - accuracy: 0.9757 - val_loss: 0.0703 - val_accuracy: 0.9847\n",
            "Epoch 4/50\n",
            "1875/1875 [==============================] - 10s 5ms/step - loss: 0.0782 - accuracy: 0.9780 - val_loss: 0.0478 - val_accuracy: 0.9883\n",
            "Epoch 5/50\n",
            "1875/1875 [==============================] - 9s 5ms/step - loss: 0.0688 - accuracy: 0.9805 - val_loss: 0.0509 - val_accuracy: 0.9883\n",
            "Epoch 6/50\n",
            "1875/1875 [==============================] - 10s 5ms/step - loss: 0.0625 - accuracy: 0.9826 - val_loss: 0.0533 - val_accuracy: 0.9860\n",
            "Epoch 7/50\n",
            "1875/1875 [==============================] - 10s 5ms/step - loss: 0.0576 - accuracy: 0.9844 - val_loss: 0.0537 - val_accuracy: 0.9863\n",
            "Epoch 8/50\n",
            "1875/1875 [==============================] - 9s 5ms/step - loss: 0.0529 - accuracy: 0.9858 - val_loss: 0.0483 - val_accuracy: 0.9885\n",
            "Epoch 9/50\n",
            "1875/1875 [==============================] - 9s 5ms/step - loss: 0.0571 - accuracy: 0.9853 - val_loss: 0.0554 - val_accuracy: 0.9881\n",
            "Epoch 10/50\n",
            "1875/1875 [==============================] - 10s 5ms/step - loss: 0.0496 - accuracy: 0.9875 - val_loss: 0.0444 - val_accuracy: 0.9908\n",
            "Epoch 11/50\n",
            "1875/1875 [==============================] - 10s 5ms/step - loss: 0.0475 - accuracy: 0.9884 - val_loss: 0.0373 - val_accuracy: 0.9926\n",
            "Epoch 12/50\n",
            "1875/1875 [==============================] - 9s 5ms/step - loss: 0.0487 - accuracy: 0.9879 - val_loss: 0.0437 - val_accuracy: 0.9913\n",
            "Epoch 13/50\n",
            "1875/1875 [==============================] - 10s 5ms/step - loss: 0.0434 - accuracy: 0.9893 - val_loss: 0.0354 - val_accuracy: 0.9916\n",
            "Epoch 14/50\n",
            "1875/1875 [==============================] - 10s 5ms/step - loss: 0.0419 - accuracy: 0.9903 - val_loss: 0.0347 - val_accuracy: 0.9919\n",
            "Epoch 15/50\n",
            "1875/1875 [==============================] - 9s 5ms/step - loss: 0.0449 - accuracy: 0.9893 - val_loss: 0.0375 - val_accuracy: 0.9916\n",
            "Epoch 16/50\n",
            "1875/1875 [==============================] - 11s 6ms/step - loss: 0.0406 - accuracy: 0.9903 - val_loss: 0.0384 - val_accuracy: 0.9910\n",
            "Epoch 17/50\n",
            "1875/1875 [==============================] - 11s 6ms/step - loss: 0.0406 - accuracy: 0.9909 - val_loss: 0.0528 - val_accuracy: 0.9895\n",
            "Epoch 18/50\n",
            "1875/1875 [==============================] - 10s 5ms/step - loss: 0.0414 - accuracy: 0.9908 - val_loss: 0.0346 - val_accuracy: 0.9931\n",
            "Epoch 19/50\n",
            "1875/1875 [==============================] - 11s 6ms/step - loss: 0.0446 - accuracy: 0.9909 - val_loss: 0.0459 - val_accuracy: 0.9894\n",
            "Epoch 20/50\n",
            "1875/1875 [==============================] - 10s 5ms/step - loss: 0.0422 - accuracy: 0.9908 - val_loss: 0.0438 - val_accuracy: 0.9904\n",
            "Epoch 21/50\n",
            "1875/1875 [==============================] - 10s 6ms/step - loss: 0.0444 - accuracy: 0.9904 - val_loss: 0.0358 - val_accuracy: 0.9928\n",
            "Epoch 22/50\n",
            "1875/1875 [==============================] - 9s 5ms/step - loss: 0.0459 - accuracy: 0.9912 - val_loss: 0.0631 - val_accuracy: 0.9885\n",
            "Epoch 23/50\n",
            "1875/1875 [==============================] - 10s 5ms/step - loss: 0.0450 - accuracy: 0.9911 - val_loss: 0.0388 - val_accuracy: 0.9922\n",
            "Epoch 24/50\n",
            "1875/1875 [==============================] - 10s 5ms/step - loss: 0.0410 - accuracy: 0.9919 - val_loss: 0.0377 - val_accuracy: 0.9921\n",
            "Epoch 25/50\n",
            "1875/1875 [==============================] - 9s 5ms/step - loss: 0.0402 - accuracy: 0.9927 - val_loss: 0.0442 - val_accuracy: 0.9909\n",
            "Epoch 26/50\n",
            "1875/1875 [==============================] - 9s 5ms/step - loss: 0.0392 - accuracy: 0.9920 - val_loss: 0.0413 - val_accuracy: 0.9913\n",
            "Epoch 27/50\n",
            "1875/1875 [==============================] - 10s 5ms/step - loss: 0.0494 - accuracy: 0.9906 - val_loss: 0.0566 - val_accuracy: 0.9901\n",
            "Epoch 28/50\n",
            "1875/1875 [==============================] - 9s 5ms/step - loss: 0.0472 - accuracy: 0.9916 - val_loss: 0.0439 - val_accuracy: 0.9908\n",
            "Epoch 29/50\n",
            "1875/1875 [==============================] - 10s 5ms/step - loss: 0.0459 - accuracy: 0.9918 - val_loss: 0.0513 - val_accuracy: 0.9897\n",
            "Epoch 30/50\n",
            "1875/1875 [==============================] - 10s 5ms/step - loss: 0.0443 - accuracy: 0.9915 - val_loss: 0.0430 - val_accuracy: 0.9920\n",
            "Epoch 31/50\n",
            "1875/1875 [==============================] - 10s 5ms/step - loss: 0.0486 - accuracy: 0.9917 - val_loss: 0.0447 - val_accuracy: 0.9933\n",
            "Epoch 32/50\n",
            "1875/1875 [==============================] - 9s 5ms/step - loss: 0.0460 - accuracy: 0.9912 - val_loss: 0.0496 - val_accuracy: 0.9891\n",
            "Epoch 33/50\n",
            "1875/1875 [==============================] - 11s 6ms/step - loss: 0.0426 - accuracy: 0.9922 - val_loss: 0.0612 - val_accuracy: 0.9892\n",
            "Epoch 34/50\n",
            "1875/1875 [==============================] - 10s 5ms/step - loss: 0.0499 - accuracy: 0.9909 - val_loss: 0.0524 - val_accuracy: 0.9905\n",
            "Epoch 35/50\n",
            "1875/1875 [==============================] - 9s 5ms/step - loss: 0.0487 - accuracy: 0.9917 - val_loss: 0.0721 - val_accuracy: 0.9823\n",
            "Epoch 36/50\n",
            "1875/1875 [==============================] - 10s 5ms/step - loss: 0.0488 - accuracy: 0.9911 - val_loss: 0.0458 - val_accuracy: 0.9916\n",
            "Epoch 37/50\n",
            "1875/1875 [==============================] - 10s 5ms/step - loss: 0.0632 - accuracy: 0.9901 - val_loss: 0.0665 - val_accuracy: 0.9875\n",
            "Epoch 38/50\n",
            "1875/1875 [==============================] - 10s 5ms/step - loss: 0.0620 - accuracy: 0.9901 - val_loss: 0.0600 - val_accuracy: 0.9896\n",
            "Epoch 39/50\n",
            "1875/1875 [==============================] - 9s 5ms/step - loss: 0.0423 - accuracy: 0.9926 - val_loss: 0.0470 - val_accuracy: 0.9901\n",
            "Epoch 40/50\n",
            "1875/1875 [==============================] - 10s 5ms/step - loss: 0.0506 - accuracy: 0.9912 - val_loss: 0.0454 - val_accuracy: 0.9893\n",
            "Epoch 41/50\n",
            "1875/1875 [==============================] - 10s 5ms/step - loss: 0.0631 - accuracy: 0.9895 - val_loss: 0.0396 - val_accuracy: 0.9922\n",
            "Epoch 42/50\n",
            "1875/1875 [==============================] - 9s 5ms/step - loss: 0.0513 - accuracy: 0.9915 - val_loss: 0.0718 - val_accuracy: 0.9867\n",
            "Epoch 43/50\n",
            "1875/1875 [==============================] - 10s 5ms/step - loss: 0.0659 - accuracy: 0.9877 - val_loss: 0.0746 - val_accuracy: 0.9818\n",
            "Epoch 44/50\n",
            "1875/1875 [==============================] - 10s 6ms/step - loss: 0.0634 - accuracy: 0.9884 - val_loss: 0.0495 - val_accuracy: 0.9901\n",
            "Epoch 45/50\n",
            "1875/1875 [==============================] - 11s 6ms/step - loss: 0.0784 - accuracy: 0.9877 - val_loss: 0.0590 - val_accuracy: 0.9883\n",
            "Epoch 46/50\n",
            "1875/1875 [==============================] - 9s 5ms/step - loss: 0.0617 - accuracy: 0.9900 - val_loss: 0.0395 - val_accuracy: 0.9897\n",
            "Epoch 47/50\n",
            "1875/1875 [==============================] - 10s 5ms/step - loss: 0.0610 - accuracy: 0.9899 - val_loss: 0.0582 - val_accuracy: 0.9914\n",
            "Epoch 48/50\n",
            "1875/1875 [==============================] - 11s 6ms/step - loss: 0.0577 - accuracy: 0.9892 - val_loss: 0.0618 - val_accuracy: 0.9885\n",
            "Epoch 49/50\n",
            "1875/1875 [==============================] - 9s 5ms/step - loss: 0.0545 - accuracy: 0.9903 - val_loss: 0.0626 - val_accuracy: 0.9897\n",
            "Epoch 50/50\n",
            "1875/1875 [==============================] - 10s 6ms/step - loss: 0.0704 - accuracy: 0.9866 - val_loss: 0.0569 - val_accuracy: 0.9884\n",
            "Execution time: 498.0316503260001 seconds\n"
          ]
        }
      ]
    }
  ]
}